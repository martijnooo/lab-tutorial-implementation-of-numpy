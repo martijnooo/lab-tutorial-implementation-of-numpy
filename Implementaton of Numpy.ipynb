{
 "cells": [
  {
   "cell_type": "markdown",
   "metadata": {
    "id": "8A01NEn8SKWm"
   },
   "source": [
    "# NumPy (Numerical Python)\n",
    "\n",
    "NumPy works on **multidimensional homogeneous array objects** and it provides a collection of functions to process those arrays. NumPy is known for the fast numerical computations. Numpy provides a high level syntax and it has a very vibrant ecosystem that interopertes for different application areas. The n-dimensional arrays are known as **ndarray**. ndarray forms the primitive building blocks of numerous python libraries."
   ]
  },
  {
   "cell_type": "markdown",
   "metadata": {
    "id": "kRC90wkCaGdV"
   },
   "source": [
    "# Importing numpy\n",
    "\n",
    "NumPy is available by default in Colab notebooks. Therefore the library can be invoked directly using the *import* statement\n",
    "\n",
    "*PS: Follow the instructions on the [Installation section](https://numpy.org/install/) of NumPy to make local installations.*\n"
   ]
  },
  {
   "cell_type": "code",
   "execution_count": 2,
   "metadata": {
    "id": "f6ey4hZmBYoe"
   },
   "outputs": [
    {
     "name": "stdout",
     "output_type": "stream",
     "text": [
      "Loaded 1.24.3 version of numpy!!!\n"
     ]
    }
   ],
   "source": [
    "import numpy as np\n",
    "print(\"Loaded\", np.__version__, \"version of numpy!!!\")"
   ]
  },
  {
   "cell_type": "markdown",
   "metadata": {
    "id": "E1QyghMraoIU"
   },
   "source": [
    "# Creating NumPy arrays\n",
    "\n",
    "The basic ndarray is created using the **array** function, which takes any sequence as an input parameter. NumPy arrays can be easily created from lists \n"
   ]
  },
  {
   "cell_type": "code",
   "execution_count": 3,
   "metadata": {
    "id": "69_hyreHan2i"
   },
   "outputs": [
    {
     "name": "stdout",
     "output_type": "stream",
     "text": [
      "var1 = [1 2 3 4 5]\n",
      "var2 = [[1 2 3 4 5]\n",
      " [6 7 8 9 0]]\n"
     ]
    }
   ],
   "source": [
    "# creating a 1 dimensional array\n",
    "var1 = np.array([1, 2, 3, 4, 5])\n",
    "\n",
    "# creating a 2 dimensional array\n",
    "var2 = np.array([[1, 2, 3, 4, 5],\n",
    "                 [6, 7, 8, 9, 0]])\n",
    "\n",
    "print(\"var1 =\", var1)\n",
    "print(\"var2 =\", var2)"
   ]
  },
  {
   "cell_type": "code",
   "execution_count": 4,
   "metadata": {
    "id": "-BsQcnkzfUnw"
   },
   "outputs": [
    {
     "name": "stdout",
     "output_type": "stream",
     "text": [
      "var3 = [1. 2. 3.]\n",
      "var4 = [1 2 3]\n",
      "var5 = [1.+0.j 2.+0.j 3.+0.j]\n"
     ]
    }
   ],
   "source": [
    "# It is also possible to specify the type of the element during array creation\n",
    "var3 = np.array([1, 2, 3], dtype=np.float32)\n",
    "print(\"var3 =\", var3)\n",
    "\n",
    "# Notice the usage of numpy arrays to create another array with a different dtype\n",
    "var4 = np.array(var3, dtype=np.int32)\n",
    "print(\"var4 =\", var4)\n",
    "\n",
    "var5 = np.array(var4, dtype=complex)\n",
    "print(\"var5 =\", var5)"
   ]
  },
  {
   "cell_type": "markdown",
   "metadata": {
    "id": "txjNpncRbr63"
   },
   "source": [
    "# Array Properties\n",
    "The important attributes of the ndarray are\n",
    "\n",
    "*   shape: Dimensions of the array\n",
    "*   size: Total number of elements in the array\n",
    "*   ndim: Number of axes\n",
    "*   dtype: Type of the elements of the array\n",
    "\n"
   ]
  },
  {
   "cell_type": "code",
   "execution_count": 5,
   "metadata": {
    "id": "-_R08BJ7djMc"
   },
   "outputs": [
    {
     "name": "stdout",
     "output_type": "stream",
     "text": [
      "int32 \t (5,) \t 5 \t 1\n",
      "int32 \t (2, 5) \t 10 \t 2\n",
      "float32 \t (3,) \t 3 \t 1\n",
      "int32 \t (3,) \t 3 \t 1\n",
      "complex128 \t (3,) \t 3 \t 1\n"
     ]
    }
   ],
   "source": [
    "print(var1.dtype, '\\t', var1.shape, '\\t', var1.size, '\\t', var1.ndim)\n",
    "print(var2.dtype, '\\t', var2.shape, '\\t', var2.size, '\\t', var2.ndim)\n",
    "print(var3.dtype, '\\t', var3.shape, '\\t', var3.size, '\\t', var3.ndim)\n",
    "print(var4.dtype, '\\t', var4.shape, '\\t', var4.size, '\\t', var4.ndim)\n",
    "print(var5.dtype, '\\t', var5.shape, '\\t', var5.size, '\\t', var5.ndim)"
   ]
  },
  {
   "cell_type": "markdown",
   "metadata": {
    "id": "s_0VKHuihhkU"
   },
   "source": [
    "# Other array creation methods\n",
    "\n",
    "It is not always necessary to have the elements defined during the creation of the arrays. There are several NumPy functions that allows you to create arrays to act as placeholders before the actual computations.\n",
    "\n",
    "**Exercise #01:**\n",
    "\n",
    "*   Create different array objects using the following functions: (1) zeros, (2) ones, (3) empty, (4) zeros_like, (5) ones_like, (6) empty_like \n"
   ]
  },
  {
   "cell_type": "code",
   "execution_count": 47,
   "metadata": {
    "id": "88Gce1SwjCOO"
   },
   "outputs": [
    {
     "data": {
      "text/plain": [
       "array([[2, 3, 2],\n",
       "       [1, 2, 3]])"
      ]
     },
     "execution_count": 47,
     "metadata": {},
     "output_type": "execute_result"
    }
   ],
   "source": [
    "# Solution\n",
    "#zeros\n",
    "np.zeros((2,2,2))\n",
    "\n",
    "#ones\n",
    "np.ones((2,2,2))\n",
    "\n",
    "# empty\n",
    "np.empty((2,4))\n",
    "\n",
    "#zeros_like\n",
    "np.zeros_like([[2,3,2],[1,2,3]])\n",
    "\n",
    "#ones_like\n",
    "np.ones_like([[2,3,2],[1,2,3]])\n",
    "\n",
    "#empty_like\n",
    "np.empty_like([[2,3,2],[1,2,3]])"
   ]
  },
  {
   "cell_type": "markdown",
   "metadata": {
    "id": "wkSikFsXvySG"
   },
   "source": [
    "**Exercise #02:**\n",
    "\n",
    "*   What is the difference between **empty** and **zeros** methods?\n",
    "*   What is the use of **arange** and **linspace** functions?\n",
    "\n"
   ]
  },
  {
   "cell_type": "markdown",
   "metadata": {
    "id": "jHwXGNWljGA6"
   },
   "source": [
    "**Solution**\n",
    "\n",
    "*   What is the difference between **empty** and **zeros** methods?\n",
    "\n",
    "- Zeros creates an array in which every value is 0 whereas empty creates an array that has no values\n",
    "\n",
    "*   What is the use of **arange** and **linspace** functions?\n",
    "\n",
    "- Arrange: Creates an array with evenly spaced steps of sice n between a start point and end point. E.g np.arrange(0,10,2) will return array([0,2,4,6,8])\n",
    "- Linspace: Creates an array with n evely spaced steps between a start point and end point. E.g. np.linspace(0,10,2) will return array([0,10]) --> two steps only means starting point and end point\n"
   ]
  },
  {
   "cell_type": "code",
   "execution_count": 64,
   "metadata": {},
   "outputs": [
    {
     "name": "stdout",
     "output_type": "stream",
     "text": [
      "[0 2 4 6 8]\n",
      "[ 0. 10.]\n"
     ]
    }
   ],
   "source": [
    "test_array = np.random.random((2,3))\n",
    "\n",
    "print(np.arange(0,10,2))\n",
    "\n",
    "print(np.linspace(0,10,2))"
   ]
  },
  {
   "cell_type": "markdown",
   "metadata": {
    "id": "wbOCONUDjb0q"
   },
   "source": [
    "# Shape Manipulations"
   ]
  },
  {
   "cell_type": "code",
   "execution_count": 65,
   "metadata": {
    "id": "D5acQVQWqKUC"
   },
   "outputs": [
    {
     "name": "stdout",
     "output_type": "stream",
     "text": [
      "[0 1 2 3 4 5 6 7 8 9]\n",
      "[[0 1 2 3 4]\n",
      " [5 6 7 8 9]]\n",
      "[[[0 1 2 3 4]\n",
      "  [5 6 7 8 9]]]\n",
      "[[[0 1 2 3 4]\n",
      "  [5 6 7 8 9]]]\n"
     ]
    }
   ],
   "source": [
    "# Creating a numpy array using arrange function\n",
    "var6 = np.arange(10, dtype=int)\n",
    "print(var6)\n",
    "\n",
    "# Reshaping the array into 2 x 5 array\n",
    "var6 = var6.reshape(2,5)\n",
    "print(var6)\n",
    "\n",
    "# Reshaping the array in 3 dimensions\n",
    "var6 = var6.reshape(1,2,5)\n",
    "print(var6)\n",
    "\n",
    "# Note that it is not always necessary to give all three dimensions\n",
    "var6 = var6.reshape(1,2,-1)\n",
    "print(var6)"
   ]
  },
  {
   "cell_type": "markdown",
   "metadata": {
    "id": "XxeMES7tr-4z"
   },
   "source": [
    "**Exercise #03:**\n",
    "\n",
    "*   What is the difference between reshape and resize methods?\n",
    "\n"
   ]
  },
  {
   "cell_type": "markdown",
   "metadata": {
    "id": "k3VFt4FMetim"
   },
   "source": [
    "**Solution**\n",
    "\n",
    "- Reshape takes an array and shapes it into a new form which needs to be able to hold the same amount as elements as the original array. E.g. one can reshape an array with 10 columns and 1 row to 2 columns and 5 rows\n",
    "- Resize will always return a new array of the desired shape, ignoring the shape of the original array. It can either transform into a new array with the same elements, cut elements or add new elements to achieve the desired state"
   ]
  },
  {
   "cell_type": "code",
   "execution_count": 102,
   "metadata": {},
   "outputs": [
    {
     "data": {
      "text/plain": [
       "array([0, 2, 4])"
      ]
     },
     "execution_count": 102,
     "metadata": {},
     "output_type": "execute_result"
    }
   ],
   "source": [
    "test_array = np.arange(0,20,2)\n",
    "test_array2 = test_array.copy()\n",
    "test_array.reshape(2,5)\n",
    "test_array2.resize(3,)\n",
    "test_array2"
   ]
  },
  {
   "cell_type": "markdown",
   "metadata": {
    "id": "i9ZCRBDlqENA"
   },
   "source": [
    "# Indexing, Slicing and Iterating\n",
    "\n",
    "Indexing and slicing is similar to python lists. We use the **[ ]** operator for providing slices and indices."
   ]
  },
  {
   "cell_type": "code",
   "execution_count": 105,
   "metadata": {
    "id": "P-CZ_trPhBwH"
   },
   "outputs": [
    {
     "name": "stdout",
     "output_type": "stream",
     "text": [
      "2\n",
      "[1 2]\n"
     ]
    }
   ],
   "source": [
    "var7 = np.array([1, 2, 3, 4, 5])\n",
    "\n",
    "# indexing the second element\n",
    "# Remember array indices start with 0 in numpy\n",
    "print(var7[1])\n",
    "\n",
    "# slicing the first two elements of the array\n",
    "print(var7[0:2])"
   ]
  },
  {
   "cell_type": "code",
   "execution_count": 106,
   "metadata": {
    "id": "aTpnDW7qhpZX"
   },
   "outputs": [
    {
     "name": "stdout",
     "output_type": "stream",
     "text": [
      "[2 4]\n"
     ]
    }
   ],
   "source": [
    "# it is also possible to slice arrays based on a condition\n",
    "print(var7[var7 % 2 == 0])  # prints all the even numbers in the array"
   ]
  },
  {
   "cell_type": "code",
   "execution_count": 113,
   "metadata": {
    "id": "MP7Z7Zsikeaf"
   },
   "outputs": [
    {
     "name": "stdout",
     "output_type": "stream",
     "text": [
      "[[1 2 3]\n",
      " [4 5 6]\n",
      " [7 8 9]]\n",
      "5\n",
      "[4 5 6]\n",
      "[2 5 8]\n",
      "[[1 2]\n",
      " [4 5]]\n"
     ]
    }
   ],
   "source": [
    "var8 = np.array([[1, 2, 3], [4, 5, 6], [7, 8, 9]])\n",
    "print(var8)\n",
    "\n",
    "# indexing the element at second row and second column\n",
    "print(var8[1,1])\n",
    "\n",
    "# it is possible to slice the entire row or column\n",
    "print(var8[1])\n",
    "print(var8[:,1])\n",
    "\n",
    "# slice a particular range\n",
    "print(var8[0:2, 0:2])"
   ]
  },
  {
   "cell_type": "markdown",
   "metadata": {
    "id": "EoGBpQv_wDrn"
   },
   "source": [
    "A visual illustration of slicing mechanism can be seen here\n",
    "\n",
    "![numpy_indexing.png](https://education-team-2020.s3.eu-west-1.amazonaws.com/ds-ai/indexing-and-slicing.png)\n",
    "\n",
    "*Reference: https://lectures.scientific-python.org/intro/numpy/array_object.html#indexing-and-slicing*"
   ]
  },
  {
   "cell_type": "markdown",
   "metadata": {
    "id": "KPx5YbuBiKjw"
   },
   "source": [
    "**Exercise #04:**\n",
    "\n",
    "*   What is the use of non-zero function? Provide an example of how non-zero function can be used.\n",
    "\n"
   ]
  },
  {
   "cell_type": "markdown",
   "metadata": {
    "id": "0SbXe2gHipxo"
   },
   "source": [
    "**Solution**\n",
    "\n",
    "The non-zero function checks which values of an array are not 0. The output are arrays based on the number shape of the input"
   ]
  },
  {
   "cell_type": "code",
   "execution_count": 130,
   "metadata": {
    "id": "07q5D1ygiblJ"
   },
   "outputs": [
    {
     "name": "stdout",
     "output_type": "stream",
     "text": [
      "[[0.96649314 0.06367461]\n",
      " [0.25121539 0.46515821]\n",
      " [0.53767612 0.26767439]\n",
      " [0.70468606 0.47760117]]\n"
     ]
    },
    {
     "data": {
      "text/plain": [
       "(array([0, 0, 1, 1, 2, 2, 3, 3], dtype=int64),\n",
       " array([0, 1, 0, 1, 0, 1, 0, 1], dtype=int64))"
      ]
     },
     "execution_count": 130,
     "metadata": {},
     "output_type": "execute_result"
    }
   ],
   "source": [
    "# solution\n",
    "test_array = np.random.random((4,2))\n",
    "\n",
    "print(test_array)\n",
    "\n",
    "np.nonzero(test_array)"
   ]
  },
  {
   "cell_type": "markdown",
   "metadata": {
    "id": "OJm98xQKzwgx"
   },
   "source": [
    "Iterating an array can be either performed using the python list style or using the nditer function."
   ]
  },
  {
   "cell_type": "code",
   "execution_count": 131,
   "metadata": {
    "id": "trCOmdaxz3L6"
   },
   "outputs": [
    {
     "name": "stdout",
     "output_type": "stream",
     "text": [
      "[1 2 3]\n",
      "[4 5 6]\n",
      "1\n",
      "2\n",
      "3\n",
      "4\n",
      "5\n",
      "6\n"
     ]
    }
   ],
   "source": [
    "var9 = np.array([[1, 2, 3], [4, 5, 6]])\n",
    "\n",
    "for i in var9: # outer loop to access row\n",
    "    print(i) # returns the entire row\n",
    "\n",
    "for i in var9: # outer loop to access row\n",
    "    for j in i:  # iterating each element of the row\n",
    "        print(j) # returns the element value"
   ]
  },
  {
   "cell_type": "code",
   "execution_count": 132,
   "metadata": {
    "id": "yiSVVSTpyoZI"
   },
   "outputs": [
    {
     "name": "stdout",
     "output_type": "stream",
     "text": [
      "1\n",
      "2\n",
      "3\n",
      "4\n",
      "5\n",
      "6\n"
     ]
    }
   ],
   "source": [
    "# an alternative to the nesting for loop is the nditer function\n",
    "var10 = np.array([[1, 2, 3], [4, 5, 6]])\n",
    "for i in np.nditer(var10):\n",
    "    print(i)"
   ]
  },
  {
   "cell_type": "markdown",
   "metadata": {
    "id": "kQbB9NlV0J72"
   },
   "source": [
    "**Exercise #05:**\n",
    "\n",
    "*   How can we enumerate a numpy array?\n",
    "\n"
   ]
  },
  {
   "cell_type": "code",
   "execution_count": 133,
   "metadata": {},
   "outputs": [
    {
     "name": "stdout",
     "output_type": "stream",
     "text": [
      "(0, array([1, 2, 3]))\n",
      "(1, array([4, 5, 6]))\n"
     ]
    }
   ],
   "source": [
    "for array in enumerate(var10):\n",
    "    print(array)"
   ]
  },
  {
   "cell_type": "markdown",
   "metadata": {
    "id": "E4L8-Aso0Mef"
   },
   "source": [
    "**Solution**\n",
    "\n",
    "*(Double-click or enter to edit)*\n",
    "\n",
    "..."
   ]
  },
  {
   "cell_type": "markdown",
   "metadata": {
    "id": "H5gsMBnSuNmN"
   },
   "source": [
    "It has to be noted that, slices share memory with original array. \n",
    "\n",
    "In the below example, var12 is created by slicing var11. Notice the change in var11 after modifying var12."
   ]
  },
  {
   "cell_type": "code",
   "execution_count": 134,
   "metadata": {
    "id": "wMJMuZTps94q"
   },
   "outputs": [
    {
     "name": "stdout",
     "output_type": "stream",
     "text": [
      "before changing: [1 2 3]\n",
      "after changing: [4 2 3]\n"
     ]
    }
   ],
   "source": [
    "var11 = np.array([1, 2, 3])\n",
    "\n",
    "var12 = var11[0:1]\n",
    "\n",
    "print('before changing:', var11)\n",
    "var12[0] = 4\n",
    "print('after changing:', var11)"
   ]
  },
  {
   "cell_type": "markdown",
   "metadata": {
    "id": "5gh4783VyOPN"
   },
   "source": [
    "This leaves us with the question of how the array copy works in numpy"
   ]
  },
  {
   "cell_type": "markdown",
   "metadata": {
    "id": "nj5X_ym4tk3D"
   },
   "source": [
    "# Array Copy\n",
    "\n",
    "When you create a new array using the '=' operator, no new copy of the array is created, ie, only a name is created but it refers to the same object."
   ]
  },
  {
   "cell_type": "code",
   "execution_count": 135,
   "metadata": {
    "id": "LRuyykbj5ce8"
   },
   "outputs": [
    {
     "name": "stdout",
     "output_type": "stream",
     "text": [
      "Before modifying [1 2 3 4 5]\n",
      "After modifying [2 2 3 4 5]\n"
     ]
    }
   ],
   "source": [
    "var13 = np.array([1, 2, 3, 4, 5])\n",
    "\n",
    "var14 = var13\n",
    "print('Before modifying', var13)\n",
    "\n",
    "var14[0] += 1\n",
    "print('After modifying', var13)"
   ]
  },
  {
   "cell_type": "markdown",
   "metadata": {
    "id": "O9LJvXVU6moG"
   },
   "source": [
    "When a view function is used to create a copy of the array, or when the array is sliced, the returned array is only a shallow copy of the original array, ie, an array object is created but the object points to the same data"
   ]
  },
  {
   "cell_type": "code",
   "execution_count": 136,
   "metadata": {
    "id": "wKiN-nK07P2U"
   },
   "outputs": [
    {
     "name": "stdout",
     "output_type": "stream",
     "text": [
      "Before modifying (using view) [1 2 3 4 5]\n",
      "After modifying (using view) [2 2 3 4 5]\n",
      "Before modifying (using slice) [2 2 3 4 5]\n",
      "After modifying (using slice) [2 2 4 4 5]\n"
     ]
    }
   ],
   "source": [
    "var15 = np.array([1, 2, 3, 4, 5])\n",
    "\n",
    "var16 = var15.view()\n",
    "print('Before modifying (using view)', var15)\n",
    "\n",
    "var16[0] += 1\n",
    "print('After modifying (using view)', var15)\n",
    "\n",
    "var17 = var15[0:3]\n",
    "print('Before modifying (using slice)', var15)\n",
    "\n",
    "var17[2] += 1\n",
    "print('After modifying (using slice)', var15)"
   ]
  },
  {
   "cell_type": "markdown",
   "metadata": {
    "id": "SxMWSP-o7oFo"
   },
   "source": [
    "To create a deep copy of the array, it is necessary to use the copy method"
   ]
  },
  {
   "cell_type": "code",
   "execution_count": 137,
   "metadata": {
    "id": "Y5vKaBkk87Bp"
   },
   "outputs": [
    {
     "name": "stdout",
     "output_type": "stream",
     "text": [
      "Before modifying (using copy) [1 2 3 4 5]\n",
      "After modifying (using copy) [1 2 3 4 5]\n"
     ]
    }
   ],
   "source": [
    "var18 = np.array([1, 2, 3, 4, 5])\n",
    "\n",
    "var19 = var18.copy()\n",
    "print('Before modifying (using copy)', var18)\n",
    "\n",
    "var19[0] += 1\n",
    "print('After modifying (using copy)', var18)"
   ]
  },
  {
   "cell_type": "markdown",
   "metadata": {
    "id": "DdxYPyqYukNf"
   },
   "source": [
    "# Adding new axis\n",
    "\n",
    "It is also possible to increase the dimensions of a numpy array. **np.newaxis** and **expand_dims** can be used to increase the dimensions of the array. This would be used very handy in building convolutional neural networks where you would need to have uniform channel lengths *(will be used in the later exercises)*."
   ]
  },
  {
   "cell_type": "code",
   "execution_count": 142,
   "metadata": {
    "id": "6pb3JQWVujSr"
   },
   "outputs": [
    {
     "name": "stdout",
     "output_type": "stream",
     "text": [
      "(5,)\n",
      "(1, 5)\n",
      "(1, 1, 5)\n",
      "(5, 1)\n",
      "(1, 5)\n",
      "[1 2 3 4 5]\n"
     ]
    }
   ],
   "source": [
    "var20 = np.array([1, 2, 3, 4, 5])\n",
    "print(var20.shape)\n",
    "\n",
    "a = var20[np.newaxis, :]  # adding new axis to the first axis\n",
    "print(a.shape)\n",
    "\n",
    "b = a[np.newaxis, :]  # adding new axis to the first axis\n",
    "print(b.shape)\n",
    "\n",
    "c = np.expand_dims(var20, axis=1)  # adding new axis to the second axis\n",
    "print(c.shape)\n",
    "\n",
    "d = np.expand_dims(var20, axis=0)  # adding new axis to the first axis\n",
    "print(d.shape)\n",
    "print(var20)"
   ]
  },
  {
   "cell_type": "markdown",
   "metadata": {
    "id": "o8xkokp5s3F4"
   },
   "source": [
    "# Broadcasting Rules\n",
    "\n",
    "Broadcasting deals with how numpy treats arrays with different sizes during arithmetic operations. In general, the smaller arrays are broadcasted into the larger array shapes so that both the arrays are compatible.\n",
    "\n",
    "Read [basic broadcasting rules](https://numpy.org/doc/stable/user/basics.broadcasting.html) for basic knowledge about broadcasting.\n",
    "Also read [Array broadcasting](https://numpy.org/doc/stable/user/theory.broadcasting.html#array-broadcasting-in-numpy).\n"
   ]
  },
  {
   "cell_type": "code",
   "execution_count": null,
   "metadata": {
    "id": "8c8Rza6BJ3Eq"
   },
   "outputs": [
    {
     "name": "stdout",
     "output_type": "stream",
     "text": [
      "[[1.2 2.3 4. ]\n",
      " [1.2 3.4 5.2]\n",
      " [0.  1.  1.3]\n",
      " [0.  1.  0.2]]\n",
      "[[ 2.4  4.6  8. ]\n",
      " [ 2.4  6.8 10.4]\n",
      " [ 0.   2.   2.6]\n",
      " [ 0.   2.   0.4]]\n",
      "[[2.2 2.3 5. ]\n",
      " [2.2 3.4 6.2]\n",
      " [1.  1.  2.3]\n",
      " [1.  1.  1.2]]\n"
     ]
    }
   ],
   "source": [
    "var20 = np.array([[1.2, 2.3, 4.0],\n",
    "                  [1.2, 3.4, 5.2],\n",
    "                  [0.0, 1.0, 1.3],\n",
    "                  [0.0, 1.0, 2e-1]])\n",
    "\n",
    "print(var20)\n",
    "\n",
    "print(var20 * 2)  # multiplying each element with 2\n",
    "\n",
    "print(var20 + [1, 0, 1])  # adding each row with [1, 0, 1]]"
   ]
  },
  {
   "cell_type": "markdown",
   "metadata": {
    "id": "u-cBHSIZLX2I"
   },
   "source": [
    "**Exercise #06:**\n",
    "\n",
    "Normalizing values is an important area in any image processing and machine learning problem. In this exercise, we will try to apply normalization at different axis to understand the role of broadcasting."
   ]
  },
  {
   "cell_type": "code",
   "execution_count": 178,
   "metadata": {
    "id": "T0nzFs-8WT3n"
   },
   "outputs": [
    {
     "name": "stdout",
     "output_type": "stream",
     "text": [
      "[[2.5       ]\n",
      " [3.26666667]\n",
      " [0.76666667]\n",
      " [0.4       ]]\n",
      "[0.6   1.925 2.675]\n",
      "[[-1.3        -0.2         1.5       ]\n",
      " [-2.06666667  0.13333333  1.93333333]\n",
      " [-0.76666667  0.23333333  0.53333333]\n",
      " [-0.4         0.6        -0.2       ]]\n",
      "[[ 0.6    0.375  1.325]\n",
      " [ 0.6    1.475  2.525]\n",
      " [-0.6   -0.925 -1.375]\n",
      " [-0.6   -0.925 -2.475]]\n",
      "[[0.23076923 0.44230769 0.76923077]\n",
      " [0.23076923 0.65384615 1.        ]\n",
      " [0.         0.19230769 0.25      ]\n",
      " [0.         0.19230769 0.03846154]]\n"
     ]
    }
   ],
   "source": [
    "var21 = np.array([[1.2, 2.3, 4.0],\n",
    "                  [1.2, 3.4, 5.2],\n",
    "                  [0.0, 1.0, 1.3],\n",
    "                  [0.0, 1.0, 2e-1]])\n",
    "\n",
    "# compute row wise mean\n",
    "var21_mean = np.mean(var21, axis=1, keepdims=True)\n",
    "print(var21_mean)\n",
    "\n",
    "# compute column wise mean\n",
    "var21_mean_clm = np.mean(var21, axis=0)\n",
    "print(var21_mean_clm)\n",
    "\n",
    "# do row wise mean subtraction and column wise mean subtraction\n",
    "# solution\n",
    "# row\n",
    "var21_mean_sub_row = var21 - var21_mean\n",
    "print(var21_mean_sub_row)\n",
    "\n",
    "#column\n",
    "var21_mean_sub_clm = var21 - var21_mean_clm\n",
    "print(var21_mean_sub_clm)\n",
    "\n",
    "\n",
    "\n",
    "# how do we normalize the entire array using the global mean?\n",
    "# solution\n",
    "normalized = (var21 - var21.min()) / (var21.max() - var21.min())\n",
    "\n",
    "print(normalized) \n",
    "\n"
   ]
  },
  {
   "cell_type": "markdown",
   "metadata": {
    "id": "d1H1A0uLW-34"
   },
   "source": [
    "\n",
    "\n",
    "*   Can you think of an example of row wise normalization and column wise normalization?\n",
    "\n"
   ]
  },
  {
   "cell_type": "code",
   "execution_count": 187,
   "metadata": {},
   "outputs": [
    {
     "data": {
      "text/plain": [
       "array([[1.        , 0.54166667, 0.76      ],\n",
       "       [1.        , 1.        , 1.        ],\n",
       "       [0.        , 0.        , 0.22      ],\n",
       "       [0.        , 0.        , 0.        ]])"
      ]
     },
     "execution_count": 187,
     "metadata": {},
     "output_type": "execute_result"
    }
   ],
   "source": [
    "row_normalisation = (var21 - var21.min(axis=1, keepdims=True)) / (var21.max(axis=1, keepdims=True) - var21.min(axis=1, keepdims=True))\n",
    "row_normalisation\n",
    "\n",
    "clm_normalisation = (var21 - var21.min(axis=0, keepdims=True)) / (var21.max(axis=0, keepdims=True) - var21.min(axis=0, keepdims=True))\n",
    "clm_normalisation"
   ]
  },
  {
   "cell_type": "markdown",
   "metadata": {
    "id": "DxBNbsYPYJ3Q"
   },
   "source": [
    "\n",
    "\n",
    "---\n",
    "\n",
    "\n",
    "**It has to be noted that this is not a complete tutorial covering the complete numpy aspects. This is provided as an introduction to numpy and its ease of use in numerical computation.**"
   ]
  }
 ],
 "metadata": {
  "colab": {
   "collapsed_sections": [],
   "provenance": []
  },
  "kernelspec": {
   "display_name": "datasci_env",
   "language": "python",
   "name": "python3"
  },
  "language_info": {
   "codemirror_mode": {
    "name": "ipython",
    "version": 3
   },
   "file_extension": ".py",
   "mimetype": "text/x-python",
   "name": "python",
   "nbconvert_exporter": "python",
   "pygments_lexer": "ipython3",
   "version": "3.8.20"
  }
 },
 "nbformat": 4,
 "nbformat_minor": 1
}
